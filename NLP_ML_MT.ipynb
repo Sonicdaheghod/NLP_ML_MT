{
 "cells": [
  {
   "cell_type": "markdown",
   "id": "f36ee0b3",
   "metadata": {},
   "source": [
    "1:16 \n",
    "[Link](https://www.linkedin.com/learning/nlp-with-python-for-machine-learning-essential-training/implementation-removing-punctuation?u=74412268)"
   ]
  },
  {
   "cell_type": "markdown",
   "id": "6bace280",
   "metadata": {},
   "source": [
    "Steps to NLP for ML:\n",
    "\n",
    "1) Raw text - mdoel cannot read text\n",
    "\n",
    "2) Tokenizing - telling model what to read from file \n",
    "\n",
    "3) Clean text - remove stop words, punctuation, stemming, etc.\n",
    "\n",
    "4) Vectorize - turn data to numeric form\n",
    "\n",
    "5) Machine Learning - put into model for train/test\n",
    "    - classification model"
   ]
  },
  {
   "cell_type": "markdown",
   "id": "50544059",
   "metadata": {},
   "source": [
    "## 1) Preprocess Data"
   ]
  },
  {
   "cell_type": "code",
   "execution_count": 1,
   "id": "903e3db8",
   "metadata": {},
   "outputs": [
    {
     "data": {
      "text/html": [
       "<div>\n",
       "<style scoped>\n",
       "    .dataframe tbody tr th:only-of-type {\n",
       "        vertical-align: middle;\n",
       "    }\n",
       "\n",
       "    .dataframe tbody tr th {\n",
       "        vertical-align: top;\n",
       "    }\n",
       "\n",
       "    .dataframe thead th {\n",
       "        text-align: right;\n",
       "    }\n",
       "</style>\n",
       "<table border=\"1\" class=\"dataframe\">\n",
       "  <thead>\n",
       "    <tr style=\"text-align: right;\">\n",
       "      <th></th>\n",
       "      <th>Review</th>\n",
       "      <th>Positive/Negative rating</th>\n",
       "    </tr>\n",
       "  </thead>\n",
       "  <tbody>\n",
       "    <tr>\n",
       "      <th>996</th>\n",
       "      <td>I think food should have flavor and texture and both were lacking.</td>\n",
       "      <td>0</td>\n",
       "    </tr>\n",
       "    <tr>\n",
       "      <th>997</th>\n",
       "      <td>Appetite instantly gone.</td>\n",
       "      <td>0</td>\n",
       "    </tr>\n",
       "    <tr>\n",
       "      <th>998</th>\n",
       "      <td>Overall I was not impressed and would not go back.</td>\n",
       "      <td>0</td>\n",
       "    </tr>\n",
       "    <tr>\n",
       "      <th>999</th>\n",
       "      <td>The whole experience was underwhelming, and I think we'll just go to Ninja Sushi next time.</td>\n",
       "      <td>0</td>\n",
       "    </tr>\n",
       "    <tr>\n",
       "      <th>1000</th>\n",
       "      <td>Then, as if I hadn't wasted enough of my life there, they poured salt in the wound by drawing ou...</td>\n",
       "      <td>0</td>\n",
       "    </tr>\n",
       "  </tbody>\n",
       "</table>\n",
       "</div>"
      ],
      "text/plain": [
       "                                                                                                   Review  \\\n",
       "996                                    I think food should have flavor and texture and both were lacking.   \n",
       "997                                                                              Appetite instantly gone.   \n",
       "998                                                    Overall I was not impressed and would not go back.   \n",
       "999           The whole experience was underwhelming, and I think we'll just go to Ninja Sushi next time.   \n",
       "1000  Then, as if I hadn't wasted enough of my life there, they poured salt in the wound by drawing ou...   \n",
       "\n",
       "     Positive/Negative rating  \n",
       "996                         0  \n",
       "997                         0  \n",
       "998                         0  \n",
       "999                         0  \n",
       "1000                        0  "
      ]
     },
     "execution_count": 1,
     "metadata": {},
     "output_type": "execute_result"
    }
   ],
   "source": [
    "import pandas as pd\n",
    "pd.set_option(\"display.max_colwidth\", 100) #set layout table\n",
    "\n",
    "my_data = pd.read_csv(\"Restaurant_Reviews.tsv\", sep=\"\\t\", header=None)\n",
    "my_data.columns = [\"Review\",\"Positive/Negative rating\"]\n",
    "\n",
    "my_data[-5:]"
   ]
  },
  {
   "cell_type": "markdown",
   "id": "9fbf9a90",
   "metadata": {},
   "source": [
    "## 2) Remove punctuation"
   ]
  },
  {
   "cell_type": "code",
   "execution_count": 2,
   "id": "efad9437",
   "metadata": {},
   "outputs": [],
   "source": [
    "#packages\n",
    "\n",
    "import re"
   ]
  },
  {
   "cell_type": "code",
   "execution_count": 3,
   "id": "4c58d963",
   "metadata": {},
   "outputs": [],
   "source": [
    "# Define a function to remove punctuation\n",
    "def remove_punctuation(text):\n",
    "    # Use regular expression to remove punctuation and replace with a space\n",
    "    text = re.sub(r'[^\\w\\s]', ' ', text)\n",
    "    return text"
   ]
  },
  {
   "cell_type": "code",
   "execution_count": 4,
   "id": "d0e0e376",
   "metadata": {},
   "outputs": [],
   "source": [
    "# Apply the function to the 'Message' column and create a new column 'Cleaned_Message'\n",
    "my_data['Cleaned_Review'] = my_data['Review'].apply(remove_punctuation)\n",
    "\n",
    "# Save the cleaned data to a new TSV file\n",
    "my_data.to_csv('my_datacleaned_file.tsv', sep='\\t', index=False)"
   ]
  },
  {
   "cell_type": "code",
   "execution_count": 5,
   "id": "2d792ca0",
   "metadata": {},
   "outputs": [
    {
     "data": {
      "text/html": [
       "<div>\n",
       "<style scoped>\n",
       "    .dataframe tbody tr th:only-of-type {\n",
       "        vertical-align: middle;\n",
       "    }\n",
       "\n",
       "    .dataframe tbody tr th {\n",
       "        vertical-align: top;\n",
       "    }\n",
       "\n",
       "    .dataframe thead th {\n",
       "        text-align: right;\n",
       "    }\n",
       "</style>\n",
       "<table border=\"1\" class=\"dataframe\">\n",
       "  <thead>\n",
       "    <tr style=\"text-align: right;\">\n",
       "      <th></th>\n",
       "      <th>Review</th>\n",
       "      <th>Positive/Negative rating</th>\n",
       "      <th>Cleaned_Review</th>\n",
       "    </tr>\n",
       "  </thead>\n",
       "  <tbody>\n",
       "    <tr>\n",
       "      <th>996</th>\n",
       "      <td>I think food should have flavor and texture and both were lacking.</td>\n",
       "      <td>0</td>\n",
       "      <td>I think food should have flavor and texture and both were lacking</td>\n",
       "    </tr>\n",
       "    <tr>\n",
       "      <th>997</th>\n",
       "      <td>Appetite instantly gone.</td>\n",
       "      <td>0</td>\n",
       "      <td>Appetite instantly gone</td>\n",
       "    </tr>\n",
       "    <tr>\n",
       "      <th>998</th>\n",
       "      <td>Overall I was not impressed and would not go back.</td>\n",
       "      <td>0</td>\n",
       "      <td>Overall I was not impressed and would not go back</td>\n",
       "    </tr>\n",
       "    <tr>\n",
       "      <th>999</th>\n",
       "      <td>The whole experience was underwhelming, and I think we'll just go to Ninja Sushi next time.</td>\n",
       "      <td>0</td>\n",
       "      <td>The whole experience was underwhelming  and I think we ll just go to Ninja Sushi next time</td>\n",
       "    </tr>\n",
       "    <tr>\n",
       "      <th>1000</th>\n",
       "      <td>Then, as if I hadn't wasted enough of my life there, they poured salt in the wound by drawing ou...</td>\n",
       "      <td>0</td>\n",
       "      <td>Then  as if I hadn t wasted enough of my life there  they poured salt in the wound by drawing ou...</td>\n",
       "    </tr>\n",
       "  </tbody>\n",
       "</table>\n",
       "</div>"
      ],
      "text/plain": [
       "                                                                                                   Review  \\\n",
       "996                                    I think food should have flavor and texture and both were lacking.   \n",
       "997                                                                              Appetite instantly gone.   \n",
       "998                                                    Overall I was not impressed and would not go back.   \n",
       "999           The whole experience was underwhelming, and I think we'll just go to Ninja Sushi next time.   \n",
       "1000  Then, as if I hadn't wasted enough of my life there, they poured salt in the wound by drawing ou...   \n",
       "\n",
       "     Positive/Negative rating  \\\n",
       "996                         0   \n",
       "997                         0   \n",
       "998                         0   \n",
       "999                         0   \n",
       "1000                        0   \n",
       "\n",
       "                                                                                           Cleaned_Review  \n",
       "996                                    I think food should have flavor and texture and both were lacking   \n",
       "997                                                                              Appetite instantly gone   \n",
       "998                                                    Overall I was not impressed and would not go back   \n",
       "999           The whole experience was underwhelming  and I think we ll just go to Ninja Sushi next time   \n",
       "1000  Then  as if I hadn t wasted enough of my life there  they poured salt in the wound by drawing ou...  "
      ]
     },
     "execution_count": 5,
     "metadata": {},
     "output_type": "execute_result"
    }
   ],
   "source": [
    "my_clean_data = pd.read_csv(\"my_datacleaned_file.tsv\", sep=\"\\t\")\n",
    "\n",
    "my_clean_data[-5:]"
   ]
  },
  {
   "cell_type": "markdown",
   "id": "e307f381",
   "metadata": {},
   "source": [
    "## 3) Tokenization"
   ]
  },
  {
   "cell_type": "markdown",
   "id": "1b1707f6",
   "metadata": {},
   "source": [
    "Chops up words in the cleaned_review column. Good for adding vocabulary to model's bank and preprocessing of smaller managable pieces."
   ]
  },
  {
   "cell_type": "code",
   "execution_count": 6,
   "id": "9feddded",
   "metadata": {
    "scrolled": true
   },
   "outputs": [
    {
     "data": {
      "text/html": [
       "<div>\n",
       "<style scoped>\n",
       "    .dataframe tbody tr th:only-of-type {\n",
       "        vertical-align: middle;\n",
       "    }\n",
       "\n",
       "    .dataframe tbody tr th {\n",
       "        vertical-align: top;\n",
       "    }\n",
       "\n",
       "    .dataframe thead th {\n",
       "        text-align: right;\n",
       "    }\n",
       "</style>\n",
       "<table border=\"1\" class=\"dataframe\">\n",
       "  <thead>\n",
       "    <tr style=\"text-align: right;\">\n",
       "      <th></th>\n",
       "      <th>Review</th>\n",
       "      <th>Positive/Negative rating</th>\n",
       "      <th>Cleaned_Review</th>\n",
       "      <th>Tokenized</th>\n",
       "    </tr>\n",
       "  </thead>\n",
       "  <tbody>\n",
       "    <tr>\n",
       "      <th>996</th>\n",
       "      <td>I think food should have flavor and texture and both were lacking.</td>\n",
       "      <td>0</td>\n",
       "      <td>I think food should have flavor and texture and both were lacking</td>\n",
       "      <td>[i, think, food, should, have, flavor, and, texture, and, both, were, lacking, ]</td>\n",
       "    </tr>\n",
       "    <tr>\n",
       "      <th>997</th>\n",
       "      <td>Appetite instantly gone.</td>\n",
       "      <td>0</td>\n",
       "      <td>Appetite instantly gone</td>\n",
       "      <td>[appetite, instantly, gone, ]</td>\n",
       "    </tr>\n",
       "    <tr>\n",
       "      <th>998</th>\n",
       "      <td>Overall I was not impressed and would not go back.</td>\n",
       "      <td>0</td>\n",
       "      <td>Overall I was not impressed and would not go back</td>\n",
       "      <td>[overall, i, was, not, impressed, and, would, not, go, back, ]</td>\n",
       "    </tr>\n",
       "    <tr>\n",
       "      <th>999</th>\n",
       "      <td>The whole experience was underwhelming, and I think we'll just go to Ninja Sushi next time.</td>\n",
       "      <td>0</td>\n",
       "      <td>The whole experience was underwhelming  and I think we ll just go to Ninja Sushi next time</td>\n",
       "      <td>[the, whole, experience, was, underwhelming, and, i, think, we, ll, just, go, to, ninja, sushi, ...</td>\n",
       "    </tr>\n",
       "    <tr>\n",
       "      <th>1000</th>\n",
       "      <td>Then, as if I hadn't wasted enough of my life there, they poured salt in the wound by drawing ou...</td>\n",
       "      <td>0</td>\n",
       "      <td>Then  as if I hadn t wasted enough of my life there  they poured salt in the wound by drawing ou...</td>\n",
       "      <td>[then, as, if, i, hadn, t, wasted, enough, of, my, life, there, they, poured, salt, in, the, wou...</td>\n",
       "    </tr>\n",
       "  </tbody>\n",
       "</table>\n",
       "</div>"
      ],
      "text/plain": [
       "                                                                                                   Review  \\\n",
       "996                                    I think food should have flavor and texture and both were lacking.   \n",
       "997                                                                              Appetite instantly gone.   \n",
       "998                                                    Overall I was not impressed and would not go back.   \n",
       "999           The whole experience was underwhelming, and I think we'll just go to Ninja Sushi next time.   \n",
       "1000  Then, as if I hadn't wasted enough of my life there, they poured salt in the wound by drawing ou...   \n",
       "\n",
       "     Positive/Negative rating  \\\n",
       "996                         0   \n",
       "997                         0   \n",
       "998                         0   \n",
       "999                         0   \n",
       "1000                        0   \n",
       "\n",
       "                                                                                           Cleaned_Review  \\\n",
       "996                                    I think food should have flavor and texture and both were lacking    \n",
       "997                                                                              Appetite instantly gone    \n",
       "998                                                    Overall I was not impressed and would not go back    \n",
       "999           The whole experience was underwhelming  and I think we ll just go to Ninja Sushi next time    \n",
       "1000  Then  as if I hadn t wasted enough of my life there  they poured salt in the wound by drawing ou...   \n",
       "\n",
       "                                                                                                Tokenized  \n",
       "996                      [i, think, food, should, have, flavor, and, texture, and, both, were, lacking, ]  \n",
       "997                                                                         [appetite, instantly, gone, ]  \n",
       "998                                        [overall, i, was, not, impressed, and, would, not, go, back, ]  \n",
       "999   [the, whole, experience, was, underwhelming, and, i, think, we, ll, just, go, to, ninja, sushi, ...  \n",
       "1000  [then, as, if, i, hadn, t, wasted, enough, of, my, life, there, they, poured, salt, in, the, wou...  "
      ]
     },
     "execution_count": 6,
     "metadata": {},
     "output_type": "execute_result"
    }
   ],
   "source": [
    "#uses re\n",
    "\n",
    "def data_tokenization(text):\n",
    "    #for every word in review\n",
    "    \n",
    "    #split word\n",
    "    tokens = re.split(\"\\W+\", text)\n",
    "    return tokens\n",
    "    #tokenized = original.tokenizeFunct column\n",
    "my_data['Tokenized'] = my_data['Cleaned_Review'].apply(lambda x:data_tokenization(x.lower()))\n",
    "\n",
    "my_data[-5:]"
   ]
  },
  {
   "cell_type": "markdown",
   "id": "097dfcd2",
   "metadata": {},
   "source": [
    "## Test case sensitivity NLP"
   ]
  },
  {
   "cell_type": "markdown",
   "id": "babcb64f",
   "metadata": {},
   "source": [
    "Purpose of using .lower method is to turn all capital letters to lower case so it knows the words are the same thing. \n",
    "\n",
    "To us, SONIC is the same as sonic, but since Python is case senitive, it see the two words as different things."
   ]
  },
  {
   "cell_type": "code",
   "execution_count": 7,
   "id": "b36e0be3",
   "metadata": {
    "scrolled": true
   },
   "outputs": [
    {
     "data": {
      "text/plain": [
       "False"
      ]
     },
     "execution_count": 7,
     "metadata": {},
     "output_type": "execute_result"
    }
   ],
   "source": [
    "\"SONIC\" == \"sonic\""
   ]
  },
  {
   "cell_type": "markdown",
   "id": "e0717c4a",
   "metadata": {},
   "source": [
    "## 4) Remove stopwords"
   ]
  },
  {
   "cell_type": "code",
   "execution_count": 8,
   "id": "7b679ad2",
   "metadata": {},
   "outputs": [],
   "source": [
    "import nltk\n",
    "\n",
    "stopword = nltk.corpus.stopwords.words(\"english\")"
   ]
  },
  {
   "cell_type": "code",
   "execution_count": 9,
   "id": "15297261",
   "metadata": {},
   "outputs": [
    {
     "data": {
      "text/html": [
       "<div>\n",
       "<style scoped>\n",
       "    .dataframe tbody tr th:only-of-type {\n",
       "        vertical-align: middle;\n",
       "    }\n",
       "\n",
       "    .dataframe tbody tr th {\n",
       "        vertical-align: top;\n",
       "    }\n",
       "\n",
       "    .dataframe thead th {\n",
       "        text-align: right;\n",
       "    }\n",
       "</style>\n",
       "<table border=\"1\" class=\"dataframe\">\n",
       "  <thead>\n",
       "    <tr style=\"text-align: right;\">\n",
       "      <th></th>\n",
       "      <th>Review</th>\n",
       "      <th>Positive/Negative rating</th>\n",
       "      <th>Cleaned_Review</th>\n",
       "      <th>Tokenized</th>\n",
       "      <th>Remove_stop</th>\n",
       "    </tr>\n",
       "  </thead>\n",
       "  <tbody>\n",
       "    <tr>\n",
       "      <th>996</th>\n",
       "      <td>I think food should have flavor and texture and both were lacking.</td>\n",
       "      <td>0</td>\n",
       "      <td>I think food should have flavor and texture and both were lacking</td>\n",
       "      <td>[i, think, food, should, have, flavor, and, texture, and, both, were, lacking, ]</td>\n",
       "      <td>{, flavor, lacking, think, food, texture}</td>\n",
       "    </tr>\n",
       "    <tr>\n",
       "      <th>997</th>\n",
       "      <td>Appetite instantly gone.</td>\n",
       "      <td>0</td>\n",
       "      <td>Appetite instantly gone</td>\n",
       "      <td>[appetite, instantly, gone, ]</td>\n",
       "      <td>{, appetite, gone, instantly}</td>\n",
       "    </tr>\n",
       "    <tr>\n",
       "      <th>998</th>\n",
       "      <td>Overall I was not impressed and would not go back.</td>\n",
       "      <td>0</td>\n",
       "      <td>Overall I was not impressed and would not go back</td>\n",
       "      <td>[overall, i, was, not, impressed, and, would, not, go, back, ]</td>\n",
       "      <td>{, impressed, go, overall, back, would}</td>\n",
       "    </tr>\n",
       "    <tr>\n",
       "      <th>999</th>\n",
       "      <td>The whole experience was underwhelming, and I think we'll just go to Ninja Sushi next time.</td>\n",
       "      <td>0</td>\n",
       "      <td>The whole experience was underwhelming  and I think we ll just go to Ninja Sushi next time</td>\n",
       "      <td>[the, whole, experience, was, underwhelming, and, i, think, we, ll, just, go, to, ninja, sushi, ...</td>\n",
       "      <td>{, whole, go, next, ninja, sushi, think, experience, time, underwhelming}</td>\n",
       "    </tr>\n",
       "    <tr>\n",
       "      <th>1000</th>\n",
       "      <td>Then, as if I hadn't wasted enough of my life there, they poured salt in the wound by drawing ou...</td>\n",
       "      <td>0</td>\n",
       "      <td>Then  as if I hadn t wasted enough of my life there  they poured salt in the wound by drawing ou...</td>\n",
       "      <td>[then, as, if, i, hadn, t, wasted, enough, of, my, life, there, they, poured, salt, in, the, wou...</td>\n",
       "      <td>{wound, , bring, enough, check, wasted, drawing, took, poured, salt, time, life}</td>\n",
       "    </tr>\n",
       "  </tbody>\n",
       "</table>\n",
       "</div>"
      ],
      "text/plain": [
       "                                                                                                   Review  \\\n",
       "996                                    I think food should have flavor and texture and both were lacking.   \n",
       "997                                                                              Appetite instantly gone.   \n",
       "998                                                    Overall I was not impressed and would not go back.   \n",
       "999           The whole experience was underwhelming, and I think we'll just go to Ninja Sushi next time.   \n",
       "1000  Then, as if I hadn't wasted enough of my life there, they poured salt in the wound by drawing ou...   \n",
       "\n",
       "     Positive/Negative rating  \\\n",
       "996                         0   \n",
       "997                         0   \n",
       "998                         0   \n",
       "999                         0   \n",
       "1000                        0   \n",
       "\n",
       "                                                                                           Cleaned_Review  \\\n",
       "996                                    I think food should have flavor and texture and both were lacking    \n",
       "997                                                                              Appetite instantly gone    \n",
       "998                                                    Overall I was not impressed and would not go back    \n",
       "999           The whole experience was underwhelming  and I think we ll just go to Ninja Sushi next time    \n",
       "1000  Then  as if I hadn t wasted enough of my life there  they poured salt in the wound by drawing ou...   \n",
       "\n",
       "                                                                                                Tokenized  \\\n",
       "996                      [i, think, food, should, have, flavor, and, texture, and, both, were, lacking, ]   \n",
       "997                                                                         [appetite, instantly, gone, ]   \n",
       "998                                        [overall, i, was, not, impressed, and, would, not, go, back, ]   \n",
       "999   [the, whole, experience, was, underwhelming, and, i, think, we, ll, just, go, to, ninja, sushi, ...   \n",
       "1000  [then, as, if, i, hadn, t, wasted, enough, of, my, life, there, they, poured, salt, in, the, wou...   \n",
       "\n",
       "                                                                           Remove_stop  \n",
       "996                                          {, flavor, lacking, think, food, texture}  \n",
       "997                                                      {, appetite, gone, instantly}  \n",
       "998                                            {, impressed, go, overall, back, would}  \n",
       "999          {, whole, go, next, ninja, sushi, think, experience, time, underwhelming}  \n",
       "1000  {wound, , bring, enough, check, wasted, drawing, took, poured, salt, time, life}  "
      ]
     },
     "execution_count": 9,
     "metadata": {},
     "output_type": "execute_result"
    }
   ],
   "source": [
    "def remove_stopwords(tokenized_list):\n",
    "    my_text = {word for word in tokenized_list if word not in stopword}\n",
    "    return my_text\n",
    "\n",
    "my_data['Remove_stop'] = my_data['Tokenized'].apply(lambda x: remove_stopwords(x))\n",
    "\n",
    "my_data[-5:]"
   ]
  },
  {
   "cell_type": "markdown",
   "id": "7f638488",
   "metadata": {},
   "source": [
    "## 5) Split into Train/Test"
   ]
  },
  {
   "cell_type": "code",
   "execution_count": 11,
   "id": "dc744867",
   "metadata": {},
   "outputs": [],
   "source": [
    "from sklearn.model_selection import train_test_split\n",
    "\n",
    "#use punctuation removed text, cleaned review, and tokenized version to test if model can properly categorize each review\n",
    "\n",
    "X_train,X_test,Y_train,Y_test=train_test_split(my_data[[\"Cleaned_Review\",\"Tokenized\",\"Remove_stop\"]], my_data[\"Positive/Negative rating\"], test_size=.2)"
   ]
  },
  {
   "cell_type": "code",
   "execution_count": null,
   "id": "ab7bcae0",
   "metadata": {},
   "outputs": [],
   "source": []
  }
 ],
 "metadata": {
  "kernelspec": {
   "display_name": "Python 3 (ipykernel)",
   "language": "python",
   "name": "python3"
  },
  "language_info": {
   "codemirror_mode": {
    "name": "ipython",
    "version": 3
   },
   "file_extension": ".py",
   "mimetype": "text/x-python",
   "name": "python",
   "nbconvert_exporter": "python",
   "pygments_lexer": "ipython3",
   "version": "3.10.9"
  }
 },
 "nbformat": 4,
 "nbformat_minor": 5
}
