{
 "cells": [
  {
   "cell_type": "markdown",
   "id": "6bace280",
   "metadata": {},
   "source": [
    "Steps to NLP for ML:\n",
    "\n",
    "1) Raw text - mdoel cannot read text\n",
    "\n",
    "2) Tokenizing - telling model what to read from file \n",
    "\n",
    "3) Clean text - remove stop words, punctuation, stemming, etc.\n",
    "\n",
    "4) Vectorize - turn data to numeric form\n",
    "\n",
    "5) Machine Learning - put into model for train/test\n",
    "    - classification model"
   ]
  },
  {
   "cell_type": "markdown",
   "id": "50544059",
   "metadata": {},
   "source": [
    "## 1) Preprocess Data"
   ]
  },
  {
   "cell_type": "code",
   "execution_count": null,
   "id": "903e3db8",
   "metadata": {},
   "outputs": [],
   "source": [
    "import pandas as pd\n"
   ]
  }
 ],
 "metadata": {
  "kernelspec": {
   "display_name": "Python 3 (ipykernel)",
   "language": "python",
   "name": "python3"
  },
  "language_info": {
   "codemirror_mode": {
    "name": "ipython",
    "version": 3
   },
   "file_extension": ".py",
   "mimetype": "text/x-python",
   "name": "python",
   "nbconvert_exporter": "python",
   "pygments_lexer": "ipython3",
   "version": "3.10.9"
  }
 },
 "nbformat": 4,
 "nbformat_minor": 5
}
